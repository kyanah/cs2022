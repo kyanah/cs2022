{
  "nbformat": 4,
  "nbformat_minor": 0,
  "metadata": {
    "colab": {
      "provenance": []
    },
    "kernelspec": {
      "name": "python3",
      "display_name": "Python 3"
    },
    "language_info": {
      "name": "python"
    }
  },
  "cells": [
    {
      "cell_type": "markdown",
      "source": [
        "# **EXAM 01** "
      ],
      "metadata": {
        "id": "KVbxtYPkbANW"
      }
    },
    {
      "cell_type": "markdown",
      "source": [
        "**f(n) = 1+2+3+....+(n-1)+n = f(n-1) + n**\n",
        "\n",
        "termination: f(1) = 1 recurrence function : f(n) = f(n-1) + n\n",
        "\n",
        "*1.Recursive function for F(n)*\n",
        "\n",
        "def f(n):"
      ],
      "metadata": {
        "id": "L7pTPgGwa70j"
      }
    },
    {
      "cell_type": "code",
      "source": [
        "def f(n):\n",
        "  if n == 1:\n",
        "    return 1\n",
        "  else:\n",
        "    return n + f(n-1)\n",
        "\n",
        "f(10)"
      ],
      "metadata": {
        "colab": {
          "base_uri": "https://localhost:8080/"
        },
        "id": "Zd0MGmDfbQGv",
        "outputId": "352b537e-3531-4b68-e1b3-7a529306ad32"
      },
      "execution_count": 1,
      "outputs": [
        {
          "output_type": "execute_result",
          "data": {
            "text/plain": [
              "55"
            ]
          },
          "metadata": {},
          "execution_count": 1
        }
      ]
    },
    {
      "cell_type": "markdown",
      "source": [
        "**f(n) = 1+2+3+....+(n-1)+n = f(n-1) + n**\n",
        "\n",
        "termination: f(1) = 1 recurrence function : f(n) = f(n-1) + n\n",
        "\n",
        "*2.Iterrative function for f(n)*"
      ],
      "metadata": {
        "id": "-uy9z75Ibasj"
      }
    },
    {
      "cell_type": "code",
      "source": [
        "n = 10\n",
        "f = 0\n",
        "for i in range(0, n + 1 ):\n",
        "  f += i\n",
        "  print(f)"
      ],
      "metadata": {
        "colab": {
          "base_uri": "https://localhost:8080/"
        },
        "id": "J1Ze4mm7bsSx",
        "outputId": "601a8c43-05e3-409b-e015-302f4195b17d"
      },
      "execution_count": 2,
      "outputs": [
        {
          "output_type": "stream",
          "name": "stdout",
          "text": [
            "0\n",
            "1\n",
            "3\n",
            "6\n",
            "10\n",
            "15\n",
            "21\n",
            "28\n",
            "36\n",
            "45\n",
            "55\n"
          ]
        }
      ]
    },
    {
      "cell_type": "markdown",
      "source": [
        "# **EXAM 02**"
      ],
      "metadata": {
        "id": "ijvXk8DrbvsM"
      }
    },
    {
      "cell_type": "markdown",
      "source": [
        "**f(n) = n! = 123.....n**\n",
        "\n",
        "*1.write a recursive function for f(n*"
      ],
      "metadata": {
        "id": "H8TE1TL4cG4L"
      }
    },
    {
      "cell_type": "code",
      "source": [
        "def f(n):\n",
        "  if n == 1:\n",
        "    return 1\n",
        "  else:\n",
        "    return n * f(n - 1)\n",
        "\n",
        "f(10)"
      ],
      "metadata": {
        "colab": {
          "base_uri": "https://localhost:8080/"
        },
        "id": "8Gl5KLEPcPSD",
        "outputId": "631a64cb-9e76-4ac0-d441-ae79f6b5e13b"
      },
      "execution_count": 3,
      "outputs": [
        {
          "output_type": "execute_result",
          "data": {
            "text/plain": [
              "3628800"
            ]
          },
          "metadata": {},
          "execution_count": 3
        }
      ]
    },
    {
      "cell_type": "markdown",
      "source": [
        "**f(n) = n! = 123.....n**\n",
        "\n",
        "*2.write a iterative function for f(n)*"
      ],
      "metadata": {
        "id": "BoN7VdkVcTFt"
      }
    },
    {
      "cell_type": "code",
      "source": [
        "n = 10\n",
        "multi = 1\n",
        "for x in range(1, n+1):\n",
        "  multi *= x\n",
        "  print (multi)"
      ],
      "metadata": {
        "colab": {
          "base_uri": "https://localhost:8080/"
        },
        "id": "djDUPWsmcdi1",
        "outputId": "42421915-6923-4e19-b159-2659e188c33f"
      },
      "execution_count": 4,
      "outputs": [
        {
          "output_type": "stream",
          "name": "stdout",
          "text": [
            "1\n",
            "2\n",
            "6\n",
            "24\n",
            "120\n",
            "720\n",
            "5040\n",
            "40320\n",
            "362880\n",
            "3628800\n"
          ]
        }
      ]
    },
    {
      "cell_type": "markdown",
      "source": [
        "# **EXAM 03**"
      ],
      "metadata": {
        "id": "KWuM-zrXd4r4"
      }
    },
    {
      "cell_type": "markdown",
      "source": [
        "**GCD:Greatest common divisor - Wikipedia gcd(8,12)=4 **\n",
        "https://en.wikipedia.org/wiki/Greatest_common_divisor\n",
        "\n",
        "Euclidean algorithm\n",
        "\n",
        "**gcd(48,18)**\n",
        "\n",
        "= **gcd(18,48%18)**\n",
        "\n",
        "= **gcd(18,12)**\n",
        "\n",
        "= **gcd(12,18%12)**\n",
        "\n",
        "= **gcd(12,6)**\n",
        "\n",
        "= **gcd(6,12%6)**\n",
        "\n",
        "=** gcd(6,0)**\n",
        "\n",
        "= **6**\n",
        "\n",
        "output: **gcd(n,m)**\n",
        "\n",
        "print**(gcd(48,18))**\n",
        "\n",
        "gcd**(18,48)** ==> gcd**(48,18)**\n",
        "\n",
        "gcd**(x,0)** ==> return x\n",
        "\n",
        "recurrence relation :\n",
        "\n",
        "*1.write a recursive function for gcd(n,m)*"
      ],
      "metadata": {
        "id": "DvzP2oIyd85G"
      }
    },
    {
      "cell_type": "code",
      "source": [
        "def gcd (n,m):\n",
        "  if m == 0:\n",
        "    return n\n",
        "  else:\n",
        "    return gcd(m, n%m)\n",
        "\n",
        "gcd(18,48)"
      ],
      "metadata": {
        "colab": {
          "base_uri": "https://localhost:8080/"
        },
        "id": "NRs3Fe2XeqT2",
        "outputId": "6d0c4939-b189-44ea-8779-8b95f0c5922a"
      },
      "execution_count": 5,
      "outputs": [
        {
          "output_type": "execute_result",
          "data": {
            "text/plain": [
              "6"
            ]
          },
          "metadata": {},
          "execution_count": 5
        }
      ]
    },
    {
      "cell_type": "markdown",
      "source": [
        "**GCD:Greatest common divisor - Wikipedia gcd(8,12)=4**\n",
        "\n",
        "Euclidean algorithm\n",
        "\n",
        "gcd**(48,18)**\n",
        "\n",
        "= gcd**(18,48%18)**\n",
        "\n",
        "= gcd**(18,12)**\n",
        "\n",
        "= gcd**(12,18%12)**\n",
        "\n",
        "= gcd**(12,6)**\n",
        "\n",
        "= gcd**(6,12%6)**\n",
        "\n",
        "= gcd**(6,0)**\n",
        "\n",
        "= **6**\n",
        "\n",
        "output: gcd(n,m)\n",
        "\n",
        "print**(gcd(48,18))**\n",
        "\n",
        "gcd**(18,48)** ==> gcd**(48,18)**\n",
        "\n",
        "gcd**(x,0)** ==> return x\n",
        "\n",
        "recurrence relation :\n",
        "\n",
        "*2.write a iterative function for gcd(n,m)v*"
      ],
      "metadata": {
        "id": "__IwPxbme4rG"
      }
    },
    {
      "cell_type": "code",
      "source": [
        "n = 48\n",
        "m = 18\n",
        "print (\"GCD (%d),(%d)\"% (n,m))\n",
        "while n != m:\n",
        "  if n == m:\n",
        "    print(\"GCD is %d\"% (n))\n",
        "  if n > m:\n",
        "    n -= m\n",
        "  else:\n",
        "    m -= n\n",
        "  if m == n:\n",
        "    print(\"GCD is %d\"% (m))"
      ],
      "metadata": {
        "colab": {
          "base_uri": "https://localhost:8080/"
        },
        "id": "2rO2yW6VfP8C",
        "outputId": "e1c0b420-6e10-4d6a-e7ac-706ee91271e0"
      },
      "execution_count": 6,
      "outputs": [
        {
          "output_type": "stream",
          "name": "stdout",
          "text": [
            "GCD (48),(18)\n",
            "GCD is 6\n"
          ]
        }
      ]
    }
  ]
}